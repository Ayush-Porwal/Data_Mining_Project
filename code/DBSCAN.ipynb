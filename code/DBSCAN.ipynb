{
 "cells": [
  {
   "cell_type": "code",
   "execution_count": 0,
   "metadata": {
    "colab": {},
    "colab_type": "code",
    "id": "esTGc1vX8pU8"
   },
   "outputs": [],
   "source": [
    "import numpy as np\n",
    "import pandas as pd"
   ]
  },
  {
   "cell_type": "code",
   "execution_count": 27,
   "metadata": {
    "colab": {
     "base_uri": "https://localhost:8080/",
     "height": 204
    },
    "colab_type": "code",
    "id": "nYXF4Ph08pVK",
    "outputId": "f5d00a79-9194-4419-b8ef-245a14535d53"
   },
   "outputs": [
    {
     "data": {
      "text/html": [
       "<div>\n",
       "<style scoped>\n",
       "    .dataframe tbody tr th:only-of-type {\n",
       "        vertical-align: middle;\n",
       "    }\n",
       "\n",
       "    .dataframe tbody tr th {\n",
       "        vertical-align: top;\n",
       "    }\n",
       "\n",
       "    .dataframe thead th {\n",
       "        text-align: right;\n",
       "    }\n",
       "</style>\n",
       "<table border=\"1\" class=\"dataframe\">\n",
       "  <thead>\n",
       "    <tr style=\"text-align: right;\">\n",
       "      <th></th>\n",
       "      <th>Operator</th>\n",
       "      <th>Technology</th>\n",
       "      <th>Test_Type</th>\n",
       "      <th>Data_Speed</th>\n",
       "      <th>Signal_Strength</th>\n",
       "      <th>LSA</th>\n",
       "      <th>Month&amp;Year</th>\n",
       "    </tr>\n",
       "  </thead>\n",
       "  <tbody>\n",
       "    <tr>\n",
       "      <th>0</th>\n",
       "      <td>JIO</td>\n",
       "      <td>4G</td>\n",
       "      <td>upload</td>\n",
       "      <td>0.053033</td>\n",
       "      <td>-63.0</td>\n",
       "      <td>Andhra Pradesh</td>\n",
       "      <td>01/3/18</td>\n",
       "    </tr>\n",
       "    <tr>\n",
       "      <th>1</th>\n",
       "      <td>JIO</td>\n",
       "      <td>4G</td>\n",
       "      <td>upload</td>\n",
       "      <td>0.053106</td>\n",
       "      <td>-65.0</td>\n",
       "      <td>Andhra Pradesh</td>\n",
       "      <td>01/3/18</td>\n",
       "    </tr>\n",
       "    <tr>\n",
       "      <th>2</th>\n",
       "      <td>JIO</td>\n",
       "      <td>4G</td>\n",
       "      <td>upload</td>\n",
       "      <td>0.050200</td>\n",
       "      <td>-65.0</td>\n",
       "      <td>Andhra Pradesh</td>\n",
       "      <td>01/3/18</td>\n",
       "    </tr>\n",
       "    <tr>\n",
       "      <th>3</th>\n",
       "      <td>VODAFONE</td>\n",
       "      <td>4G</td>\n",
       "      <td>download</td>\n",
       "      <td>0.056157</td>\n",
       "      <td>-90.0</td>\n",
       "      <td>Maharashtra</td>\n",
       "      <td>01/3/18</td>\n",
       "    </tr>\n",
       "    <tr>\n",
       "      <th>4</th>\n",
       "      <td>VODAFONE</td>\n",
       "      <td>4G</td>\n",
       "      <td>download</td>\n",
       "      <td>0.050272</td>\n",
       "      <td>-90.0</td>\n",
       "      <td>Maharashtra</td>\n",
       "      <td>01/3/18</td>\n",
       "    </tr>\n",
       "  </tbody>\n",
       "</table>\n",
       "</div>"
      ],
      "text/plain": [
       "   Operator Technology Test_Type  ...  Signal_Strength             LSA Month&Year\n",
       "0       JIO         4G    upload  ...            -63.0  Andhra Pradesh    01/3/18\n",
       "1       JIO         4G    upload  ...            -65.0  Andhra Pradesh    01/3/18\n",
       "2       JIO         4G    upload  ...            -65.0  Andhra Pradesh    01/3/18\n",
       "3  VODAFONE         4G  download  ...            -90.0     Maharashtra    01/3/18\n",
       "4  VODAFONE         4G  download  ...            -90.0     Maharashtra    01/3/18\n",
       "\n",
       "[5 rows x 7 columns]"
      ]
     },
     "execution_count": 27,
     "metadata": {
      "tags": []
     },
     "output_type": "execute_result"
    }
   ],
   "source": [
    "df = pd.read_csv('../data/mergedData.csv')\n",
    "df.head()"
   ]
  },
  {
   "cell_type": "code",
   "execution_count": 28,
   "metadata": {
    "colab": {
     "base_uri": "https://localhost:8080/",
     "height": 374
    },
    "colab_type": "code",
    "id": "aCEFCXUa8pVY",
    "outputId": "6ca10021-a738-499a-c7f0-fac2d8328696"
   },
   "outputs": [
    {
     "name": "stdout",
     "output_type": "stream",
     "text": [
      "   Operator  Data_Speed\n",
      "0         5    0.053033\n",
      "1         5    0.053106\n",
      "2         5    0.050200\n",
      "3         7    0.056157\n",
      "4         7    0.050272\n",
      "()\n",
      "   Technology  Data_Speed\n",
      "0           3    0.053033\n",
      "1           3    0.053106\n",
      "2           3    0.050200\n",
      "3           3    0.056157\n",
      "4           3    0.050272\n",
      "()\n",
      "   Data_Speed  LSA\n",
      "0    0.053033    0\n",
      "1    0.053106    0\n",
      "2    0.050200    0\n",
      "3    0.056157   13\n",
      "4    0.050272   13\n",
      "()\n"
     ]
    }
   ],
   "source": [
    "df1 = df.drop(['Technology', 'Test_Type', 'Signal_Strength', 'LSA', 'Month&Year'], axis=1)\n",
    "df2 = df.drop(['Operator', 'Test_Type', 'Signal_Strength', 'LSA', 'Month&Year'], axis=1)\n",
    "df3 = df.drop(['Operator', 'Technology', 'Test_Type', 'Signal_Strength', 'Month&Year'], axis=1)\n",
    "\n",
    "Label1 = {'AIRCEL': 0, 'AIRTEL': 1, 'CELLONE': 2, 'DOLPHIN': 3, 'IDEA': 4, 'JIO': 5, 'UNINOR': 6,\n",
    "       'VODAFONE': 7}\n",
    "\n",
    "Label2 = {'2G': 0, '3G': 1, '4G': 3}\n",
    "\n",
    "Label3 = {'Andhra Pradesh': 0, 'Assam': 1, 'Bihar': 2, 'Chennai': 3, 'Delhi': 4, 'Gujarat': 5,\n",
    "       'Haryana': 6, 'Himachal Pradesh': 7, 'Jammu & Kashmir': 8, 'Karnataka': 9,\n",
    "       'Kerala': 10, 'Kolkata': 11, 'Madhya Pradesh': 12, 'Maharashtra': 13, 'Mumbai': 14,\n",
    "       'North East': 15, 'Orissa': 16, 'Punjab': 17, 'Rajasthan': 18, 'Tamil Nadu': 19,\n",
    "       'UP East': 20, 'UP West': 21, 'West Bengal': 21}\n",
    "\n",
    "df1['Operator'] = df1['Operator'].map(Label1)\n",
    "df2['Technology'] = df2['Technology'].map(Label2)\n",
    "df3['LSA'] = df3['LSA'].map(Label3)\n",
    "\n",
    "print(df1.head()); print()\n",
    "print(df2.head()); print()\n",
    "print(df3.head()); print()"
   ]
  },
  {
   "cell_type": "code",
   "execution_count": 0,
   "metadata": {
    "colab": {},
    "colab_type": "code",
    "id": "cZmKwrkc8pVj"
   },
   "outputs": [],
   "source": [
    "def MyDBSCAN(D, eps, MinPts):\n",
    "    \"\"\"\n",
    "    Cluster the dataset `D` using the DBSCAN algorithm.\n",
    "    \n",
    "    MyDBSCAN takes a dataset `D` (a list of vectors), a threshold distance\n",
    "    `eps`, and a required number of points `MinPts`.\n",
    "    \n",
    "    It will return a list of cluster labels. The label -1 means noise, and then\n",
    "    the clusters are numbered starting from 1.\n",
    "    \"\"\"\n",
    " \n",
    "    # This list will hold the final cluster assignment for each point in D.\n",
    "    # There are two reserved values:\n",
    "    #    -1 - Indicates a noise point\n",
    "    #     0 - Means the point hasn't been considered yet.\n",
    "    # Initially all labels are 0.    \n",
    "    labels = [0]*len(D)\n",
    "\n",
    "    # C is the ID of the current cluster.    \n",
    "    C = 0\n",
    "    \n",
    "    # This outer loop is just responsible for picking new seed points--a point\n",
    "    # from which to grow a new cluster.\n",
    "    # Once a valid seed point is found, a new cluster is created, and the \n",
    "    # cluster growth is all handled by the 'expandCluster' routine.\n",
    "    \n",
    "    for P in range(0, len(D)):\n",
    "    \n",
    "        # Only points that have not already been claimed can be picked as new \n",
    "        # seed points.    \n",
    "        # If the point's label is not 0, continue to the next point.\n",
    "        if not (labels[P] == 0):\n",
    "           continue\n",
    "        \n",
    "        # Find all of P's neighboring points.\n",
    "        NeighborPts = regionQuery(D, P, eps)\n",
    "        \n",
    "        # If the number is below MinPts, this point is noise. A NOISE point may later \n",
    "        # be picked up by another cluster as a boundary point (this is the only\n",
    "        # condition under which a cluster label can change--from NOISE to \n",
    "        # something else).\n",
    "        if len(NeighborPts) < MinPts:\n",
    "            labels[P] = -1\n",
    "        # Otherwise, if there are at least MinPts nearby, use this point as the \n",
    "        # seed for a new cluster.    \n",
    "        else: \n",
    "           C += 1\n",
    "           growCluster(D, labels, P, NeighborPts, C, eps, MinPts)\n",
    "    \n",
    "    # All data has been clustered!\n",
    "    return labels\n",
    "\n",
    "\n",
    "def growCluster(D, labels, P, NeighborPts, C, eps, MinPts):\n",
    "    \"\"\"\n",
    "    Grow a new cluster with label `C` from the seed point `P`.\n",
    "    \n",
    "    This function searches through the dataset to find all points that belong\n",
    "    to this new cluster. When this function returns, cluster `C` is complete.\n",
    "    \n",
    "    Parameters:\n",
    "      `D`      - The dataset (a list of vectors)\n",
    "      `labels` - List storing the cluster labels for all dataset points\n",
    "      `P`      - Index of the seed point for this new cluster\n",
    "      `NeighborPts` - All of the neighbors of `P`\n",
    "      `C`      - The label for this new cluster.  \n",
    "      `eps`    - Threshold distance\n",
    "      `MinPts` - Minimum required number of neighbors\n",
    "    \"\"\"\n",
    "\n",
    "    # Assign the cluster label to the seed point.\n",
    "    labels[P] = C\n",
    "    # In NeighborPts, the points are represented by their index in the original\n",
    "    # dataset.\n",
    "    i = 0\n",
    "    while i < len(NeighborPts):    \n",
    "        \n",
    "        # Get the next point from the queue.        \n",
    "        Pn = NeighborPts[i]\n",
    "       \n",
    "        # If Pn was labelled NOISE during the seed search, then we\n",
    "        # know it's not a branch point (it doesn't have enough neighbors), so\n",
    "        # make it a leaf point of cluster C and move on.\n",
    "        if labels[Pn] == -1:\n",
    "           labels[Pn] = C\n",
    "        \n",
    "        # Otherwise, if Pn isn't already claimed, claim it as part of C.\n",
    "        elif labels[Pn] == 0:\n",
    "            # Add Pn to cluster C (Assign cluster label C).\n",
    "            labels[Pn] = C\n",
    "            \n",
    "            # Find all the neighbors of Pn\n",
    "            PnNeighborPts = regionQuery(D, Pn, eps)\n",
    "            \n",
    "            # If Pn has at least MinPts neighbors, it's a branch point!\n",
    "            # Add all of its neighbors to the FIFO queue to be searched. \n",
    "            if len(PnNeighborPts) >= MinPts:\n",
    "                NeighborPts = NeighborPts + PnNeighborPts\n",
    "            # If Pn *doesn't* have enough neighbors, then it's a leaf point.\n",
    "            # Don't queue up it's neighbors as expansion points.\n",
    "            #else:\n",
    "                # Do nothing                \n",
    "                #NeighborPts = NeighborPts               \n",
    "        \n",
    "        # Advance to the next point in the FIFO queue.\n",
    "        i += 1        \n",
    "    \n",
    "    # We've finished growing cluster C!\n",
    "\n",
    "\n",
    "def regionQuery(D, P, eps):\n",
    "    \"\"\"\n",
    "    Find all points in dataset `D` within distance `eps` of point `P`.\n",
    "    \n",
    "    This function calculates the distance between a point P and every other \n",
    "    point in the dataset, and then returns only those points which are within a\n",
    "    threshold distance `eps`.\n",
    "    \"\"\"\n",
    "    neighbors = []\n",
    "    \n",
    "    # For each point in the dataset...\n",
    "    for Pn in range(0, len(D)):\n",
    "        \n",
    "        # If the distance is below the threshold, add it to the neighbors list.\n",
    "        if np.linalg.norm(D[P] - D[Pn]) < eps:\n",
    "           neighbors.append(Pn)\n",
    "            \n",
    "    return neighbors"
   ]
  },
  {
   "cell_type": "code",
   "execution_count": 30,
   "metadata": {
    "colab": {
     "base_uri": "https://localhost:8080/",
     "height": 374
    },
    "colab_type": "code",
    "id": "m4JiZnBk8pVp",
    "outputId": "9baf5239-0fc5-4e9b-a746-8a38954d9b4e"
   },
   "outputs": [
    {
     "name": "stdout",
     "output_type": "stream",
     "text": [
      "         P1        P2\n",
      "0  0.395996 -0.187369\n",
      "1  0.395996 -0.186748\n",
      "2  0.395996 -0.211572\n",
      "3  1.566925 -0.160683\n",
      "4  1.566925 -0.210951\n",
      "()\n",
      "         P1        P2\n",
      "0  0.306467 -0.187369\n",
      "1  0.306467 -0.186748\n",
      "2  0.306467 -0.211572\n",
      "3  0.306467 -0.160683\n",
      "4  0.306467 -0.210951\n",
      "()\n",
      "         P1        P2\n",
      "0 -0.187369 -1.734244\n",
      "1 -0.186748 -1.734244\n",
      "2 -0.211572 -1.734244\n",
      "3 -0.160683  0.203546\n",
      "4 -0.210951  0.203546\n",
      "()\n"
     ]
    }
   ],
   "source": [
    "#preparing variables for both MyDBSCAN\n",
    "\n",
    "from sklearn.preprocessing import StandardScaler\n",
    "\n",
    "X1 = StandardScaler().fit_transform(df1)\n",
    "X2 = StandardScaler().fit_transform(df2)\n",
    "X3 = StandardScaler().fit_transform(df3)\n",
    "\n",
    "X1_DF = pd.DataFrame(X1)\n",
    "X1_DF.columns = ['P1', 'P2'] \n",
    "X2_DF = pd.DataFrame(X2)\n",
    "X2_DF.columns = ['P1', 'P2']\n",
    "X3_DF = pd.DataFrame(X3)\n",
    "X3_DF.columns = ['P1', 'P2']\n",
    "\n",
    "print(X1_DF.head()); print()\n",
    "print(X2_DF.head()); print()\n",
    "print(X3_DF.head()); print()"
   ]
  },
  {
   "cell_type": "markdown",
   "metadata": {
    "colab_type": "text",
    "id": "1Hthfamz8pVw"
   },
   "source": [
    "Running MyDBSCAN and DBSCAN to compare results "
   ]
  },
  {
   "cell_type": "code",
   "execution_count": 33,
   "metadata": {
    "colab": {
     "base_uri": "https://localhost:8080/",
     "height": 34
    },
    "colab_type": "code",
    "id": "nKj19MP58pVx",
    "outputId": "72811b6c-adca-4952-d7a1-578e10e2880c"
   },
   "outputs": [
    {
     "name": "stdout",
     "output_type": "stream",
     "text": [
      "Silhouette Coefficient: 0.914\n"
     ]
    }
   ],
   "source": [
    "from sklearn import metrics\n",
    "\n",
    "smpl = df1.sample(frac =.000265)\n",
    "X1 = smpl.iloc[:,:].values\n",
    "\n",
    "labels1 = MyDBSCAN(X1,0.5,9)\n",
    "labels1 = np.array(labels1)\n",
    "\n",
    "print(\"Silhouette Coefficient: %0.3f\" % metrics.silhouette_score(X1, labels1))"
   ]
  },
  {
   "cell_type": "code",
   "execution_count": 34,
   "metadata": {
    "colab": {
     "base_uri": "https://localhost:8080/",
     "height": 34
    },
    "colab_type": "code",
    "id": "cMLq0qpL8pV5",
    "outputId": "5e2b894f-7085-4499-89ad-24ca009dfe60"
   },
   "outputs": [
    {
     "name": "stdout",
     "output_type": "stream",
     "text": [
      "Silhouette Coefficient: 0.951\n"
     ]
    }
   ],
   "source": [
    "smpl = df2.sample(frac =.000265)\n",
    "X2 = smpl.iloc[:,:].values\n",
    "\n",
    "labels2 = MyDBSCAN(X2,0.5,9)\n",
    "labels2 = np.array(labels2)\n",
    "\n",
    "print(\"Silhouette Coefficient: %0.3f\" % metrics.silhouette_score(X2, labels2))"
   ]
  },
  {
   "cell_type": "code",
   "execution_count": 35,
   "metadata": {
    "colab": {
     "base_uri": "https://localhost:8080/",
     "height": 34
    },
    "colab_type": "code",
    "id": "1JM6F22x8pWB",
    "outputId": "8bfe208c-c5db-4c8c-b9bb-c01859806cf3"
   },
   "outputs": [
    {
     "name": "stdout",
     "output_type": "stream",
     "text": [
      "Silhouette Coefficient: 0.903\n"
     ]
    }
   ],
   "source": [
    "smpl = df3.sample(frac =.000265)\n",
    "X3 = smpl.iloc[:,:].values\n",
    "\n",
    "labels3 = MyDBSCAN(X3,0.2,9)\n",
    "labels3 = np.array(labels3)\n",
    "\n",
    "print(\"Silhouette Coefficient: %0.3f\" % metrics.silhouette_score(X3, labels3))"
   ]
  },
  {
   "cell_type": "code",
   "execution_count": 45,
   "metadata": {
    "colab": {
     "base_uri": "https://localhost:8080/",
     "height": 935
    },
    "colab_type": "code",
    "id": "mrGygygI8pWK",
    "outputId": "9301e23f-8a57-419e-f610-387ed6e0e202"
   },
   "outputs": [
    {
     "name": "stderr",
     "output_type": "stream",
     "text": [
      "/usr/local/lib/python2.7/dist-packages/matplotlib/legend.py:937: UserWarning: Legend does not support 'r' instances.\n",
      "A proxy artist may be used instead.\n",
      "See: http://matplotlib.org/users/legend_guide.html#creating-artists-specifically-for-adding-to-the-legend-aka-proxy-artists\n",
      "  \"aka-proxy-artists\".format(orig_handle)\n",
      "/usr/local/lib/python2.7/dist-packages/matplotlib/legend.py:937: UserWarning: Legend does not support 'b' instances.\n",
      "A proxy artist may be used instead.\n",
      "See: http://matplotlib.org/users/legend_guide.html#creating-artists-specifically-for-adding-to-the-legend-aka-proxy-artists\n",
      "  \"aka-proxy-artists\".format(orig_handle)\n",
      "/usr/local/lib/python2.7/dist-packages/matplotlib/legend.py:937: UserWarning: Legend does not support 'g' instances.\n",
      "A proxy artist may be used instead.\n",
      "See: http://matplotlib.org/users/legend_guide.html#creating-artists-specifically-for-adding-to-the-legend-aka-proxy-artists\n",
      "  \"aka-proxy-artists\".format(orig_handle)\n",
      "/usr/local/lib/python2.7/dist-packages/matplotlib/legend.py:937: UserWarning: Legend does not support 'y' instances.\n",
      "A proxy artist may be used instead.\n",
      "See: http://matplotlib.org/users/legend_guide.html#creating-artists-specifically-for-adding-to-the-legend-aka-proxy-artists\n",
      "  \"aka-proxy-artists\".format(orig_handle)\n",
      "/usr/local/lib/python2.7/dist-packages/matplotlib/legend.py:937: UserWarning: Legend does not support 'm' instances.\n",
      "A proxy artist may be used instead.\n",
      "See: http://matplotlib.org/users/legend_guide.html#creating-artists-specifically-for-adding-to-the-legend-aka-proxy-artists\n",
      "  \"aka-proxy-artists\".format(orig_handle)\n"
     ]
    },
    {
     "data": {
      "image/png": "[encoded data removed]",
      "text/plain": [
       "<Figure size 720x720 with 1 Axes>"
      ]
     },
     "metadata": {
      "needs_background": "light",
      "tags": []
     },
     "output_type": "display_data"
    }
   ],
   "source": [
    "import matplotlib.pyplot as plt\n",
    "\n",
    "# Building the label to colour mapping \n",
    "colours = {} \n",
    "colours[1] = 'r'\n",
    "colours[2] = 'b'\n",
    "colours[3] = 'g'\n",
    "colours[4] = 'y'\n",
    "colours[5] = 'm'\n",
    "  \n",
    "# Building the colour vector for each data point \n",
    "cvec = [colours[label] for label in labels1] \n",
    "\n",
    "# Plotting P1 on the X-Axis and P2 on the Y-Axis  \n",
    "# according to the colour vector defined \n",
    "plt.figure(figsize =(10,10)) \n",
    "plt.scatter(X1_DF['P1'], X1_DF['P2'],c = cvec)\n",
    "# Building the legend \n",
    "plt.legend(('r', 'b', 'g', 'y', 'm'), ('Label 1', 'Label 2', 'Label 3', 'Label 4', 'Label -1')) \n",
    "plt.show()"
   ]
  },
  {
   "cell_type": "code",
   "execution_count": 46,
   "metadata": {
    "colab": {
     "base_uri": "https://localhost:8080/",
     "height": 595
    },
    "colab_type": "code",
    "id": "kwpOxR4ykRZa",
    "outputId": "915509dd-f637-4e4e-e8ea-b0b7f4c6ff12"
   },
   "outputs": [
    {
     "data": {
      "image/png": "[encoded data removed]",
      "text/plain": [
       "<Figure size 720x720 with 1 Axes>"
      ]
     },
     "metadata": {
      "needs_background": "light",
      "tags": []
     },
     "output_type": "display_data"
    }
   ],
   "source": [
    "import matplotlib.pyplot as plt\n",
    "\n",
    "# Building the label to colour mapping \n",
    "colours = {} \n",
    "colours[1] = 'r'\n",
    "colours[2] = 'b'\n",
    "  \n",
    "# Building the colour vector for each data point \n",
    "cvec = [colours[label] for label in labels2] \n",
    "\n",
    "# Plotting P1 on the X-Axis and P2 on the Y-Axis  \n",
    "# according to the colour vector defined \n",
    "plt.figure(figsize =(10,10)) \n",
    "plt.scatter(X2_DF['P1'], X2_DF['P2'],c = cvec)\n",
    "# Building the legend \n",
    "plt.legend(('r', 'b'), ('Label 1', 'Label 2', 'Label -1')) \n",
    "plt.show()"
   ]
  }
 ],
 "metadata": {
  "colab": {
   "name": "DBSCAN.ipynb",
   "provenance": []
  },
  "kernelspec": {
   "display_name": "Python 2",
   "language": "python",
   "name": "python2"
  },
  "language_info": {
   "codemirror_mode": {
    "name": "ipython",
    "version": 3
   },
   "file_extension": ".py",
   "mimetype": "text/x-python",
   "name": "python",
   "nbconvert_exporter": "python",
   "pygments_lexer": "ipython3",
   "version": "3.7.6"
  }
 },
 "nbformat": 4,
 "nbformat_minor": 1
}
