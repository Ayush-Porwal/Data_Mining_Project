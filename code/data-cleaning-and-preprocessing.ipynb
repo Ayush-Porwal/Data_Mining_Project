{
 "cells": [
  {
   "cell_type": "markdown",
   "metadata": {},
   "source": [
    "> # Importing pandas library to read the csv file"
   ]
  },
  {
   "cell_type": "code",
   "execution_count": 1,
   "metadata": {},
   "outputs": [],
   "source": [
    "import numpy as np\n",
    "import pandas as pd"
   ]
  },
  {
   "cell_type": "markdown",
   "metadata": {},
   "source": [
    "> The data is spread into 17 different csv files, we name them with format 'M_Y.csv' for our convenience. <br>\n",
    "> # Merging and Data Cleaning <br>\n",
    "> ### Data Cleaning involves the following tasks <br>\n",
    "> <ul><li> After reading, we name the columns to maintain uniformity. It helps when concatenation is required.</li>\n",
    "    <li> Filling the null values in Licenses Service Area(LSA) column using ffill method. </li>\n",
    "    <li> Dropping all the rows for which Signal_Strength has null values. </li>\n",
    "    <li> We know that Signal_Strength varies from 0 to -130 dBm. In some files, it is given positive which is wrong. We assume that data collector forgot to put minus sign, So we multiply by -1 to correct the reading. </li>\n",
    "    </ul>\n",
    ">\n",
    "> # Data Preprocessing\n",
    "> ### [1] Feature Creation\n",
    "> If we merge the data without considering to create Month&Year feature we will loose some information\n",
    "> ### [2] Feature Normalisation\n",
    "> the Data_Speed feature has been min-max normalised since it has different unit of measurement in different files\n",
    "> ### [3] Random sampling without replacement has been done\n",
    "> 30 % of the data was removed randomly. Since the sample size is still greater than 20,000 so it will not affect the statistics too much."
   ]
  },
  {
   "cell_type": "code",
   "execution_count": 2,
   "metadata": {},
   "outputs": [],
   "source": [
    "dfs=[] # declaring an empty list to store dataframes\n",
    "\n",
    "# reading the data for year 2018\n",
    "for i in range(3,13):\n",
    "    df=pd.read_csv('../data/'+str(i)+'_18.csv')\n",
    "    df.columns=['Operator', 'Technology', 'Test_Type', 'Data_Speed','Signal_Strength', 'LSA']\n",
    "    df['LSA']=df['LSA'].fillna(method='ffill')\n",
    "    df['Signal_Strength']=df['Signal_Strength'].dropna()\n",
    "    df['Month&Year']='01/'+str(i)+'/18'\n",
    "    df['Data_Speed']=(df['Data_Speed']-df['Data_Speed'].min())/(df['Data_Speed'].max()-df['Data_Speed'].min())\n",
    "    df['Signal_Strength']=df['Signal_Strength'].transform(lambda value : -1*value if (value>0) else value)\n",
    "    dfs.append(df)\n",
    "    \n",
    "for i in range(1,8):\n",
    "    df=pd.read_csv('../data/'+str(i)+'_19.csv')\n",
    "    df.columns=['Operator', 'Technology', 'Test_Type', 'Data_Speed','Signal_Strength', 'LSA']\n",
    "    df['LSA']=df['LSA'].fillna(method='ffill')\n",
    "    df['Signal_Strength']=df['Signal_Strength'].dropna()\n",
    "    df['Month&Year']='01/'+str(i)+'/19'\n",
    "    df['Data_Speed']=(df['Data_Speed']-df['Data_Speed'].min())/(df['Data_Speed'].max()-df['Data_Speed'].min())\n",
    "    df['Signal_Strength']=df['Signal_Strength'].transform(lambda value : -1*value if (value>0) else value)\n",
    "    dfs.append(df)\n",
    "\n",
    "#concatenation\n",
    "df = pd.concat(dfs, ignore_index=True)\n",
    "\n",
    "df=df.dropna()\n",
    "df.reset_index(drop=True)\n",
    "\n",
    "#sampling\n",
    "np.random.seed(10)\n",
    "remove_n = 5421104\n",
    "drop_indices=np.random.choice(df.index,remove_n,replace=False)\n",
    "df = df.drop(drop_indices)\n",
    "df['Test_Type']=df['Test_Type'].str.lower()\n",
    "df.reset_index(drop=True)\n",
    "\n",
    "df.to_csv ('../data/mergedData.csv', index = None, header=True)"
   ]
  },
  {
   "cell_type": "markdown",
   "metadata": {},
   "source": [
    "> Checking if data has any null values"
   ]
  },
  {
   "cell_type": "code",
   "execution_count": 3,
   "metadata": {},
   "outputs": [
    {
     "data": {
      "text/plain": [
       "Operator           False\n",
       "Technology         False\n",
       "Test_Type          False\n",
       "Data_Speed         False\n",
       "Signal_Strength    False\n",
       "LSA                False\n",
       "Month&Year         False\n",
       "dtype: bool"
      ]
     },
     "execution_count": 3,
     "metadata": {},
     "output_type": "execute_result"
    }
   ],
   "source": [
    "df.isnull().any()"
   ]
  },
  {
   "cell_type": "markdown",
   "metadata": {},
   "source": [
    "> We see, that our merged data file doesn't have any null values"
   ]
  },
  {
   "cell_type": "code",
   "execution_count": 4,
   "metadata": {},
   "outputs": [
    {
     "data": {
      "text/html": [
       "<div>\n",
       "<style scoped>\n",
       "    .dataframe tbody tr th:only-of-type {\n",
       "        vertical-align: middle;\n",
       "    }\n",
       "\n",
       "    .dataframe tbody tr th {\n",
       "        vertical-align: top;\n",
       "    }\n",
       "\n",
       "    .dataframe thead th {\n",
       "        text-align: right;\n",
       "    }\n",
       "</style>\n",
       "<table border=\"1\" class=\"dataframe\">\n",
       "  <thead>\n",
       "    <tr style=\"text-align: right;\">\n",
       "      <th></th>\n",
       "      <th>Operator</th>\n",
       "      <th>Technology</th>\n",
       "      <th>Test_Type</th>\n",
       "      <th>Data_Speed</th>\n",
       "      <th>Signal_Strength</th>\n",
       "      <th>LSA</th>\n",
       "      <th>Month&amp;Year</th>\n",
       "    </tr>\n",
       "  </thead>\n",
       "  <tbody>\n",
       "    <tr>\n",
       "      <td>2298458</td>\n",
       "      <td>JIO</td>\n",
       "      <td>4G</td>\n",
       "      <td>download</td>\n",
       "      <td>0.102200</td>\n",
       "      <td>-103.0</td>\n",
       "      <td>Maharashtra</td>\n",
       "      <td>01/4/18</td>\n",
       "    </tr>\n",
       "    <tr>\n",
       "      <td>17277735</td>\n",
       "      <td>JIO</td>\n",
       "      <td>4G</td>\n",
       "      <td>download</td>\n",
       "      <td>0.002769</td>\n",
       "      <td>-89.0</td>\n",
       "      <td>UP East</td>\n",
       "      <td>01/3/19</td>\n",
       "    </tr>\n",
       "    <tr>\n",
       "      <td>13877920</td>\n",
       "      <td>JIO</td>\n",
       "      <td>4G</td>\n",
       "      <td>upload</td>\n",
       "      <td>0.012227</td>\n",
       "      <td>-92.0</td>\n",
       "      <td>Gujarat</td>\n",
       "      <td>01/12/18</td>\n",
       "    </tr>\n",
       "    <tr>\n",
       "      <td>11995143</td>\n",
       "      <td>JIO</td>\n",
       "      <td>4G</td>\n",
       "      <td>upload</td>\n",
       "      <td>0.067435</td>\n",
       "      <td>-77.0</td>\n",
       "      <td>UP East</td>\n",
       "      <td>01/10/18</td>\n",
       "    </tr>\n",
       "    <tr>\n",
       "      <td>319531</td>\n",
       "      <td>VODAFONE</td>\n",
       "      <td>4G</td>\n",
       "      <td>upload</td>\n",
       "      <td>0.042281</td>\n",
       "      <td>-90.0</td>\n",
       "      <td>Haryana</td>\n",
       "      <td>01/3/18</td>\n",
       "    </tr>\n",
       "    <tr>\n",
       "      <td>4286312</td>\n",
       "      <td>VODAFONE</td>\n",
       "      <td>3G</td>\n",
       "      <td>upload</td>\n",
       "      <td>0.003341</td>\n",
       "      <td>-105.0</td>\n",
       "      <td>Gujarat</td>\n",
       "      <td>01/5/18</td>\n",
       "    </tr>\n",
       "    <tr>\n",
       "      <td>4568829</td>\n",
       "      <td>JIO</td>\n",
       "      <td>4G</td>\n",
       "      <td>download</td>\n",
       "      <td>0.133803</td>\n",
       "      <td>-90.0</td>\n",
       "      <td>Punjab</td>\n",
       "      <td>01/5/18</td>\n",
       "    </tr>\n",
       "    <tr>\n",
       "      <td>1439658</td>\n",
       "      <td>JIO</td>\n",
       "      <td>4G</td>\n",
       "      <td>download</td>\n",
       "      <td>0.052326</td>\n",
       "      <td>-102.0</td>\n",
       "      <td>Assam</td>\n",
       "      <td>01/4/18</td>\n",
       "    </tr>\n",
       "    <tr>\n",
       "      <td>8979762</td>\n",
       "      <td>AIRTEL</td>\n",
       "      <td>4G</td>\n",
       "      <td>download</td>\n",
       "      <td>0.003583</td>\n",
       "      <td>-84.0</td>\n",
       "      <td>Jammu &amp; Kashmir</td>\n",
       "      <td>01/7/18</td>\n",
       "    </tr>\n",
       "    <tr>\n",
       "      <td>13489254</td>\n",
       "      <td>JIO</td>\n",
       "      <td>4G</td>\n",
       "      <td>upload</td>\n",
       "      <td>0.072531</td>\n",
       "      <td>-72.0</td>\n",
       "      <td>Kerala</td>\n",
       "      <td>01/11/18</td>\n",
       "    </tr>\n",
       "  </tbody>\n",
       "</table>\n",
       "</div>"
      ],
      "text/plain": [
       "          Operator Technology Test_Type  Data_Speed  Signal_Strength  \\\n",
       "2298458        JIO         4G  download    0.102200           -103.0   \n",
       "17277735       JIO         4G  download    0.002769            -89.0   \n",
       "13877920       JIO         4G    upload    0.012227            -92.0   \n",
       "11995143       JIO         4G    upload    0.067435            -77.0   \n",
       "319531    VODAFONE         4G    upload    0.042281            -90.0   \n",
       "4286312   VODAFONE         3G    upload    0.003341           -105.0   \n",
       "4568829        JIO         4G  download    0.133803            -90.0   \n",
       "1439658        JIO         4G  download    0.052326           -102.0   \n",
       "8979762     AIRTEL         4G  download    0.003583            -84.0   \n",
       "13489254       JIO         4G    upload    0.072531            -72.0   \n",
       "\n",
       "                      LSA Month&Year  \n",
       "2298458       Maharashtra    01/4/18  \n",
       "17277735          UP East    01/3/19  \n",
       "13877920          Gujarat   01/12/18  \n",
       "11995143          UP East   01/10/18  \n",
       "319531            Haryana    01/3/18  \n",
       "4286312           Gujarat    01/5/18  \n",
       "4568829            Punjab    01/5/18  \n",
       "1439658             Assam    01/4/18  \n",
       "8979762   Jammu & Kashmir    01/7/18  \n",
       "13489254           Kerala   01/11/18  "
      ]
     },
     "execution_count": 4,
     "metadata": {},
     "output_type": "execute_result"
    }
   ],
   "source": [
    "df.sample(10)"
   ]
  },
  {
   "cell_type": "code",
   "execution_count": 5,
   "metadata": {},
   "outputs": [
    {
     "data": {
      "text/html": [
       "<div>\n",
       "<style scoped>\n",
       "    .dataframe tbody tr th:only-of-type {\n",
       "        vertical-align: middle;\n",
       "    }\n",
       "\n",
       "    .dataframe tbody tr th {\n",
       "        vertical-align: top;\n",
       "    }\n",
       "\n",
       "    .dataframe thead th {\n",
       "        text-align: right;\n",
       "    }\n",
       "</style>\n",
       "<table border=\"1\" class=\"dataframe\">\n",
       "  <thead>\n",
       "    <tr style=\"text-align: right;\">\n",
       "      <th></th>\n",
       "      <th>Data_Speed</th>\n",
       "      <th>Signal_Strength</th>\n",
       "    </tr>\n",
       "  </thead>\n",
       "  <tbody>\n",
       "    <tr>\n",
       "      <td>count</td>\n",
       "      <td>1.264924e+07</td>\n",
       "      <td>1.264924e+07</td>\n",
       "    </tr>\n",
       "    <tr>\n",
       "      <td>mean</td>\n",
       "      <td>7.496701e-02</td>\n",
       "      <td>-7.799186e+01</td>\n",
       "    </tr>\n",
       "    <tr>\n",
       "      <td>std</td>\n",
       "      <td>1.170630e-01</td>\n",
       "      <td>2.633105e+01</td>\n",
       "    </tr>\n",
       "    <tr>\n",
       "      <td>min</td>\n",
       "      <td>0.000000e+00</td>\n",
       "      <td>-1.340000e+02</td>\n",
       "    </tr>\n",
       "    <tr>\n",
       "      <td>25%</td>\n",
       "      <td>8.800351e-03</td>\n",
       "      <td>-9.800000e+01</td>\n",
       "    </tr>\n",
       "    <tr>\n",
       "      <td>50%</td>\n",
       "      <td>3.126799e-02</td>\n",
       "      <td>-8.400000e+01</td>\n",
       "    </tr>\n",
       "    <tr>\n",
       "      <td>75%</td>\n",
       "      <td>7.125551e-02</td>\n",
       "      <td>-6.400000e+01</td>\n",
       "    </tr>\n",
       "    <tr>\n",
       "      <td>max</td>\n",
       "      <td>1.000000e+00</td>\n",
       "      <td>-1.000000e+00</td>\n",
       "    </tr>\n",
       "  </tbody>\n",
       "</table>\n",
       "</div>"
      ],
      "text/plain": [
       "         Data_Speed  Signal_Strength\n",
       "count  1.264924e+07     1.264924e+07\n",
       "mean   7.496701e-02    -7.799186e+01\n",
       "std    1.170630e-01     2.633105e+01\n",
       "min    0.000000e+00    -1.340000e+02\n",
       "25%    8.800351e-03    -9.800000e+01\n",
       "50%    3.126799e-02    -8.400000e+01\n",
       "75%    7.125551e-02    -6.400000e+01\n",
       "max    1.000000e+00    -1.000000e+00"
      ]
     },
     "execution_count": 5,
     "metadata": {},
     "output_type": "execute_result"
    }
   ],
   "source": [
    "df.describe()"
   ]
  },
  {
   "cell_type": "code",
   "execution_count": 6,
   "metadata": {},
   "outputs": [
    {
     "data": {
      "text/plain": [
       "Operator            object\n",
       "Technology          object\n",
       "Test_Type           object\n",
       "Data_Speed         float64\n",
       "Signal_Strength    float64\n",
       "LSA                 object\n",
       "Month&Year          object\n",
       "dtype: object"
      ]
     },
     "execution_count": 6,
     "metadata": {},
     "output_type": "execute_result"
    }
   ],
   "source": [
    "df.dtypes"
   ]
  },
  {
   "cell_type": "code",
   "execution_count": 7,
   "metadata": {},
   "outputs": [
    {
     "data": {
      "text/plain": [
       "(12649245, 7)"
      ]
     },
     "execution_count": 7,
     "metadata": {},
     "output_type": "execute_result"
    }
   ],
   "source": [
    "df.shape"
   ]
  },
  {
   "cell_type": "code",
   "execution_count": 2,
   "metadata": {},
   "outputs": [],
   "source": [
    "import pandas as pd\n",
    "df=pd.read_csv('../data/mergedData.csv')"
   ]
  },
  {
   "cell_type": "code",
   "execution_count": 11,
   "metadata": {},
   "outputs": [],
   "source": [
    "df['Month&Year'] = pd.to_datetime(df['Month&Year']).dt.strftime('%Y-%m-%d')"
   ]
  },
  {
   "cell_type": "code",
   "execution_count": 12,
   "metadata": {},
   "outputs": [
    {
     "data": {
      "text/html": [
       "<div>\n",
       "<style scoped>\n",
       "    .dataframe tbody tr th:only-of-type {\n",
       "        vertical-align: middle;\n",
       "    }\n",
       "\n",
       "    .dataframe tbody tr th {\n",
       "        vertical-align: top;\n",
       "    }\n",
       "\n",
       "    .dataframe thead th {\n",
       "        text-align: right;\n",
       "    }\n",
       "</style>\n",
       "<table border=\"1\" class=\"dataframe\">\n",
       "  <thead>\n",
       "    <tr style=\"text-align: right;\">\n",
       "      <th></th>\n",
       "      <th>Operator</th>\n",
       "      <th>Technology</th>\n",
       "      <th>Test_Type</th>\n",
       "      <th>Data_Speed</th>\n",
       "      <th>Signal_Strength</th>\n",
       "      <th>LSA</th>\n",
       "      <th>Month&amp;Year</th>\n",
       "    </tr>\n",
       "  </thead>\n",
       "  <tbody>\n",
       "    <tr>\n",
       "      <th>0</th>\n",
       "      <td>JIO</td>\n",
       "      <td>4G</td>\n",
       "      <td>Upload</td>\n",
       "      <td>0.053033</td>\n",
       "      <td>-63.0</td>\n",
       "      <td>Andhra Pradesh</td>\n",
       "      <td>1</td>\n",
       "    </tr>\n",
       "    <tr>\n",
       "      <th>1</th>\n",
       "      <td>JIO</td>\n",
       "      <td>4G</td>\n",
       "      <td>Upload</td>\n",
       "      <td>0.053106</td>\n",
       "      <td>-65.0</td>\n",
       "      <td>Andhra Pradesh</td>\n",
       "      <td>1</td>\n",
       "    </tr>\n",
       "    <tr>\n",
       "      <th>2</th>\n",
       "      <td>JIO</td>\n",
       "      <td>4G</td>\n",
       "      <td>Upload</td>\n",
       "      <td>0.050200</td>\n",
       "      <td>-65.0</td>\n",
       "      <td>Andhra Pradesh</td>\n",
       "      <td>1</td>\n",
       "    </tr>\n",
       "    <tr>\n",
       "      <th>3</th>\n",
       "      <td>VODAFONE</td>\n",
       "      <td>4G</td>\n",
       "      <td>Download</td>\n",
       "      <td>0.056157</td>\n",
       "      <td>-90.0</td>\n",
       "      <td>Maharashtra</td>\n",
       "      <td>1</td>\n",
       "    </tr>\n",
       "    <tr>\n",
       "      <th>4</th>\n",
       "      <td>VODAFONE</td>\n",
       "      <td>4G</td>\n",
       "      <td>Download</td>\n",
       "      <td>0.050272</td>\n",
       "      <td>-90.0</td>\n",
       "      <td>Maharashtra</td>\n",
       "      <td>1</td>\n",
       "    </tr>\n",
       "  </tbody>\n",
       "</table>\n",
       "</div>"
      ],
      "text/plain": [
       "   Operator Technology Test_Type  Data_Speed  Signal_Strength             LSA  \\\n",
       "0       JIO         4G    Upload    0.053033            -63.0  Andhra Pradesh   \n",
       "1       JIO         4G    Upload    0.053106            -65.0  Andhra Pradesh   \n",
       "2       JIO         4G    Upload    0.050200            -65.0  Andhra Pradesh   \n",
       "3  VODAFONE         4G  Download    0.056157            -90.0     Maharashtra   \n",
       "4  VODAFONE         4G  Download    0.050272            -90.0     Maharashtra   \n",
       "\n",
       "   Month&Year  \n",
       "0           1  \n",
       "1           1  \n",
       "2           1  \n",
       "3           1  \n",
       "4           1  "
      ]
     },
     "execution_count": 12,
     "metadata": {},
     "output_type": "execute_result"
    }
   ],
   "source": [
    "df.head()"
   ]
  },
  {
   "cell_type": "code",
   "execution_count": 10,
   "metadata": {},
   "outputs": [
    {
     "data": {
      "text/plain": [
       "Operator            object\n",
       "Technology          object\n",
       "Test_Type           object\n",
       "Data_Speed         float64\n",
       "Signal_Strength    float64\n",
       "LSA                 object\n",
       "Month&Year          object\n",
       "dtype: object"
      ]
     },
     "execution_count": 10,
     "metadata": {},
     "output_type": "execute_result"
    }
   ],
   "source": [
    "df.dtypes"
   ]
  },
  {
   "cell_type": "code",
   "execution_count": null,
   "metadata": {},
   "outputs": [],
   "source": []
  }
 ],
 "metadata": {
  "kernelspec": {
   "display_name": "Python 2",
   "language": "python",
   "name": "python2"
  },
  "language_info": {
   "codemirror_mode": {
    "name": "ipython",
    "version": 3
   },
   "file_extension": ".py",
   "mimetype": "text/x-python",
   "name": "python",
   "nbconvert_exporter": "python",
   "pygments_lexer": "ipython3",
   "version": "3.7.6"
  }
 },
 "nbformat": 4,
 "nbformat_minor": 4
}
