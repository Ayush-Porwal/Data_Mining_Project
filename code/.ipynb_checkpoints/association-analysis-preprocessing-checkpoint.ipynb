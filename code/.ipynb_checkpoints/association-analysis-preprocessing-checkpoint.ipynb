{
 "cells": [
  {
   "cell_type": "markdown",
   "metadata": {},
   "source": [
    "> # Preprocessing of dataset for association analysis"
   ]
  },
  {
   "cell_type": "markdown",
   "metadata": {},
   "source": [
    "> # Importing required libraries"
   ]
  },
  {
   "cell_type": "code",
   "execution_count": 1,
   "metadata": {},
   "outputs": [],
   "source": [
    "import numpy as np\n",
    "import pandas as pd\n",
    "import matplotlib.pyplot as plt\n",
    "import seaborn as sns"
   ]
  },
  {
   "cell_type": "markdown",
   "metadata": {},
   "source": [
    "> # Reading the dataframe"
   ]
  },
  {
   "cell_type": "code",
   "execution_count": 2,
   "metadata": {},
   "outputs": [],
   "source": [
    "data=pd.read_csv (r'C:\\Users\\Azizur Rehman\\Documents\\DM\\mergedData.csv')\n",
    "df = pd.DataFrame(data)\n",
    "plt.style.use('seaborn-white')"
   ]
  },
  {
   "cell_type": "markdown",
   "metadata": {},
   "source": [
    "> # Maximum and minimum values of the dataset"
   ]
  },
  {
   "cell_type": "code",
   "execution_count": 3,
   "metadata": {},
   "outputs": [
    {
     "data": {
      "text/plain": [
       "Operator              VODAFONE\n",
       "Technology                  4G\n",
       "Test_Type               upload\n",
       "Data_Speed                   1\n",
       "Signal_Strength             -1\n",
       "LSA                West Bengal\n",
       "Month&Year             01/9/18\n",
       "dtype: object"
      ]
     },
     "execution_count": 3,
     "metadata": {},
     "output_type": "execute_result"
    }
   ],
   "source": [
    "df.max(axis=0)"
   ]
  },
  {
   "cell_type": "code",
   "execution_count": 4,
   "metadata": {},
   "outputs": [
    {
     "data": {
      "text/plain": [
       "Operator                   AIRCEL\n",
       "Technology                     2G\n",
       "Test_Type                download\n",
       "Data_Speed                      0\n",
       "Signal_Strength              -134\n",
       "LSA                Andhra Pradesh\n",
       "Month&Year                01/1/19\n",
       "dtype: object"
      ]
     },
     "execution_count": 4,
     "metadata": {},
     "output_type": "execute_result"
    }
   ],
   "source": [
    "df.min(axis=0)"
   ]
  },
  {
   "cell_type": "code",
   "execution_count": 5,
   "metadata": {},
   "outputs": [
    {
     "data": {
      "text/plain": [
       "<matplotlib.axes._subplots.AxesSubplot at 0x1501abda608>"
      ]
     },
     "execution_count": 5,
     "metadata": {},
     "output_type": "execute_result"
    },
    {
     "data": {
      "image/png": "[encoded data removed]",
      "text/plain": [
       "<Figure size 432x288 with 1 Axes>"
      ]
     },
     "metadata": {},
     "output_type": "display_data"
    }
   ],
   "source": [
    "sns.set_style('whitegrid')\n",
    "\n",
    "data=pd.read_csv (r'C:\\Users\\Azizur Rehman\\Documents\\DM\\mergedData.csv')\n",
    "df = data.groupby(['Operator', 'Technology'])['Data_Speed'].sum().reset_index()\n",
    "\n",
    "df['Data_Speed'].plot(kind='hist')"
   ]
  },
  {
   "cell_type": "code",
   "execution_count": 6,
   "metadata": {},
   "outputs": [
    {
     "data": {
      "text/plain": [
       "<matplotlib.axes._subplots.AxesSubplot at 0x1509b253388>"
      ]
     },
     "execution_count": 6,
     "metadata": {},
     "output_type": "execute_result"
    },
    {
     "data": {
      "image/png": "[encoded data removed]",
      "text/plain": [
       "<Figure size 432x288 with 1 Axes>"
      ]
     },
     "metadata": {},
     "output_type": "display_data"
    }
   ],
   "source": [
    "sns.set_style('whitegrid')\n",
    "\n",
    "data=pd.read_csv (r'C:\\Users\\Azizur Rehman\\Documents\\DM\\mergedData.csv')\n",
    "df = data.groupby(['Operator', 'Technology'])['Signal_Strength'].sum().reset_index()\n",
    "\n",
    "df['Signal_Strength'].plot(kind='hist')"
   ]
  },
  {
   "cell_type": "markdown",
   "metadata": {},
   "source": [
    "> # The Columns Data_Speed and Signal_Stregth are numerical data types. "
   ]
  },
  {
   "cell_type": "markdown",
   "metadata": {},
   "source": [
    "> # So Discretization of the values is done by Equal width binning into 10 Ranked bins"
   ]
  },
  {
   "cell_type": "code",
   "execution_count": 7,
   "metadata": {},
   "outputs": [
    {
     "data": {
      "text/plain": [
       "0           1\n",
       "1           1\n",
       "2           1\n",
       "3           1\n",
       "4           1\n",
       "           ..\n",
       "12649240    1\n",
       "12649241    1\n",
       "12649242    1\n",
       "12649243    1\n",
       "12649244    1\n",
       "Name: Data_Speed, Length: 12649245, dtype: category\n",
       "Categories (10, int64): [1 < 2 < 3 < 4 ... 7 < 8 < 9 < 10]"
      ]
     },
     "execution_count": 7,
     "metadata": {},
     "output_type": "execute_result"
    }
   ],
   "source": [
    "data=pd.read_csv (r'C:\\Users\\Azizur Rehman\\Documents\\DM\\mergedData.csv')\n",
    "df = pd.DataFrame(data)\n",
    "pd.cut(df['Data_Speed'], bins=10, labels=[1,2,3,4,5,6,7,8,9,10])"
   ]
  },
  {
   "cell_type": "code",
   "execution_count": 8,
   "metadata": {},
   "outputs": [
    {
     "data": {
      "text/plain": [
       "0           6\n",
       "1           6\n",
       "2           6\n",
       "3           4\n",
       "4           4\n",
       "           ..\n",
       "12649240    4\n",
       "12649241    4\n",
       "12649242    4\n",
       "12649243    3\n",
       "12649244    4\n",
       "Name: Signal_Strength, Length: 12649245, dtype: category\n",
       "Categories (10, int64): [1 < 2 < 3 < 4 ... 7 < 8 < 9 < 10]"
      ]
     },
     "execution_count": 8,
     "metadata": {},
     "output_type": "execute_result"
    }
   ],
   "source": [
    "pd.cut(df['Signal_Strength'], bins=10, labels=[1,2,3,4,5,6,7,8,9,10])"
   ]
  },
  {
   "cell_type": "markdown",
   "metadata": {},
   "source": [
    "> # Counts of values in respective ranked bins of both Data_Speed and Signal_Strength"
   ]
  },
  {
   "cell_type": "code",
   "execution_count": 9,
   "metadata": {},
   "outputs": [
    {
     "data": {
      "text/plain": [
       "1     10317180\n",
       "2       927887\n",
       "3       465719\n",
       "4       401643\n",
       "5       348570\n",
       "6       147546\n",
       "7        36432\n",
       "8         3380\n",
       "9          504\n",
       "10         384\n",
       "Name: Data_Speed, dtype: int64"
      ]
     },
     "execution_count": 9,
     "metadata": {},
     "output_type": "execute_result"
    }
   ],
   "source": [
    "pd.cut(df['Data_Speed'], bins=10, labels=[1,2,3,4,5,6,7,8,9,10]).value_counts()"
   ]
  },
  {
   "cell_type": "code",
   "execution_count": 10,
   "metadata": {},
   "outputs": [
    {
     "data": {
      "text/plain": [
       "3     3376692\n",
       "4     2769920\n",
       "5     1974808\n",
       "6     1812409\n",
       "2      817921\n",
       "7      612026\n",
       "10     600352\n",
       "8      435386\n",
       "9      247883\n",
       "1        1848\n",
       "Name: Signal_Strength, dtype: int64"
      ]
     },
     "execution_count": 10,
     "metadata": {},
     "output_type": "execute_result"
    }
   ],
   "source": [
    "pd.cut(df['Signal_Strength'], bins=10, labels=[1,2,3,4,5,6,7,8,9,10]).value_counts()"
   ]
  },
  {
   "cell_type": "markdown",
   "metadata": {},
   "source": [
    "> # Processed Dataframe with ranks "
   ]
  },
  {
   "cell_type": "code",
   "execution_count": 11,
   "metadata": {},
   "outputs": [
    {
     "name": "stdout",
     "output_type": "stream",
     "text": [
      "          Operator Technology Test_Type  Data_Speed  Signal_Strength  \\\n",
      "0              JIO         4G    upload    0.053033            -63.0   \n",
      "1              JIO         4G    upload    0.053106            -65.0   \n",
      "2              JIO         4G    upload    0.050200            -65.0   \n",
      "3         VODAFONE         4G  download    0.056157            -90.0   \n",
      "4         VODAFONE         4G  download    0.050272            -90.0   \n",
      "...            ...        ...       ...         ...              ...   \n",
      "12649240    AIRTEL         4G    upload    0.041293            -81.0   \n",
      "12649241      IDEA         3G  download    0.017397            -93.0   \n",
      "12649242  VODAFONE         4G    upload    0.039912            -82.0   \n",
      "12649243  VODAFONE         4G    upload    0.003314            -99.0   \n",
      "12649244       JIO         4G  download    0.027649            -91.0   \n",
      "\n",
      "                     LSA Month&Year Ranked_SignalStrength Ranked_DataSpeed  \n",
      "0         Andhra Pradesh    01/3/18                     6                1  \n",
      "1         Andhra Pradesh    01/3/18                     6                1  \n",
      "2         Andhra Pradesh    01/3/18                     6                1  \n",
      "3            Maharashtra    01/3/18                     4                1  \n",
      "4            Maharashtra    01/3/18                     4                1  \n",
      "...                  ...        ...                   ...              ...  \n",
      "12649240         UP East    01/7/19                     4                1  \n",
      "12649241          Kerala    01/7/19                     4                1  \n",
      "12649242           Delhi    01/7/19                     4                1  \n",
      "12649243           Delhi    01/7/19                     3                1  \n",
      "12649244           Delhi    01/7/19                     4                1  \n",
      "\n",
      "[12649245 rows x 9 columns]\n"
     ]
    }
   ],
   "source": [
    "df['Ranked_SignalStrength'] = pd.cut(df['Signal_Strength'], bins=10, labels=[1,2,3,4,5,6,7,8,9,10])\n",
    "df['Ranked_DataSpeed'] = pd.cut(df['Data_Speed'], bins=10, labels=[1,2,3,4,5,6,7,8,9,10])\n",
    "print (df)"
   ]
  },
  {
   "cell_type": "markdown",
   "metadata": {},
   "source": [
    "> # The object types of the Columns except Data_Speed and Signal_Strength are either objects or categories which is needed for association analysis"
   ]
  },
  {
   "cell_type": "code",
   "execution_count": 12,
   "metadata": {},
   "outputs": [
    {
     "name": "stdout",
     "output_type": "stream",
     "text": [
      "Operator                   object\n",
      "Technology                 object\n",
      "Test_Type                  object\n",
      "Data_Speed                float64\n",
      "Signal_Strength           float64\n",
      "LSA                        object\n",
      "Month&Year                 object\n",
      "Ranked_SignalStrength    category\n",
      "Ranked_DataSpeed         category\n",
      "dtype: object\n"
     ]
    }
   ],
   "source": [
    "print (df.dtypes)"
   ]
  },
  {
   "cell_type": "code",
   "execution_count": 13,
   "metadata": {},
   "outputs": [
    {
     "data": {
      "text/html": [
       "<div>\n",
       "<style scoped>\n",
       "    .dataframe tbody tr th:only-of-type {\n",
       "        vertical-align: middle;\n",
       "    }\n",
       "\n",
       "    .dataframe tbody tr th {\n",
       "        vertical-align: top;\n",
       "    }\n",
       "\n",
       "    .dataframe thead th {\n",
       "        text-align: right;\n",
       "    }\n",
       "</style>\n",
       "<table border=\"1\" class=\"dataframe\">\n",
       "  <thead>\n",
       "    <tr style=\"text-align: right;\">\n",
       "      <th></th>\n",
       "      <th>Operator</th>\n",
       "      <th>Technology</th>\n",
       "      <th>Test_Type</th>\n",
       "      <th>LSA</th>\n",
       "      <th>Month&amp;Year</th>\n",
       "      <th>Ranked_SignalStrength</th>\n",
       "      <th>Ranked_DataSpeed</th>\n",
       "    </tr>\n",
       "  </thead>\n",
       "  <tbody>\n",
       "    <tr>\n",
       "      <td>0</td>\n",
       "      <td>JIO</td>\n",
       "      <td>4G</td>\n",
       "      <td>upload</td>\n",
       "      <td>Andhra Pradesh</td>\n",
       "      <td>01/3/18</td>\n",
       "      <td>6</td>\n",
       "      <td>1</td>\n",
       "    </tr>\n",
       "    <tr>\n",
       "      <td>1</td>\n",
       "      <td>JIO</td>\n",
       "      <td>4G</td>\n",
       "      <td>upload</td>\n",
       "      <td>Andhra Pradesh</td>\n",
       "      <td>01/3/18</td>\n",
       "      <td>6</td>\n",
       "      <td>1</td>\n",
       "    </tr>\n",
       "    <tr>\n",
       "      <td>2</td>\n",
       "      <td>JIO</td>\n",
       "      <td>4G</td>\n",
       "      <td>upload</td>\n",
       "      <td>Andhra Pradesh</td>\n",
       "      <td>01/3/18</td>\n",
       "      <td>6</td>\n",
       "      <td>1</td>\n",
       "    </tr>\n",
       "    <tr>\n",
       "      <td>3</td>\n",
       "      <td>VODAFONE</td>\n",
       "      <td>4G</td>\n",
       "      <td>download</td>\n",
       "      <td>Maharashtra</td>\n",
       "      <td>01/3/18</td>\n",
       "      <td>4</td>\n",
       "      <td>1</td>\n",
       "    </tr>\n",
       "    <tr>\n",
       "      <td>4</td>\n",
       "      <td>VODAFONE</td>\n",
       "      <td>4G</td>\n",
       "      <td>download</td>\n",
       "      <td>Maharashtra</td>\n",
       "      <td>01/3/18</td>\n",
       "      <td>4</td>\n",
       "      <td>1</td>\n",
       "    </tr>\n",
       "    <tr>\n",
       "      <td>...</td>\n",
       "      <td>...</td>\n",
       "      <td>...</td>\n",
       "      <td>...</td>\n",
       "      <td>...</td>\n",
       "      <td>...</td>\n",
       "      <td>...</td>\n",
       "      <td>...</td>\n",
       "    </tr>\n",
       "    <tr>\n",
       "      <td>12649240</td>\n",
       "      <td>AIRTEL</td>\n",
       "      <td>4G</td>\n",
       "      <td>upload</td>\n",
       "      <td>UP East</td>\n",
       "      <td>01/7/19</td>\n",
       "      <td>4</td>\n",
       "      <td>1</td>\n",
       "    </tr>\n",
       "    <tr>\n",
       "      <td>12649241</td>\n",
       "      <td>IDEA</td>\n",
       "      <td>3G</td>\n",
       "      <td>download</td>\n",
       "      <td>Kerala</td>\n",
       "      <td>01/7/19</td>\n",
       "      <td>4</td>\n",
       "      <td>1</td>\n",
       "    </tr>\n",
       "    <tr>\n",
       "      <td>12649242</td>\n",
       "      <td>VODAFONE</td>\n",
       "      <td>4G</td>\n",
       "      <td>upload</td>\n",
       "      <td>Delhi</td>\n",
       "      <td>01/7/19</td>\n",
       "      <td>4</td>\n",
       "      <td>1</td>\n",
       "    </tr>\n",
       "    <tr>\n",
       "      <td>12649243</td>\n",
       "      <td>VODAFONE</td>\n",
       "      <td>4G</td>\n",
       "      <td>upload</td>\n",
       "      <td>Delhi</td>\n",
       "      <td>01/7/19</td>\n",
       "      <td>3</td>\n",
       "      <td>1</td>\n",
       "    </tr>\n",
       "    <tr>\n",
       "      <td>12649244</td>\n",
       "      <td>JIO</td>\n",
       "      <td>4G</td>\n",
       "      <td>download</td>\n",
       "      <td>Delhi</td>\n",
       "      <td>01/7/19</td>\n",
       "      <td>4</td>\n",
       "      <td>1</td>\n",
       "    </tr>\n",
       "  </tbody>\n",
       "</table>\n",
       "<p>12649245 rows × 7 columns</p>\n",
       "</div>"
      ],
      "text/plain": [
       "          Operator Technology Test_Type             LSA Month&Year  \\\n",
       "0              JIO         4G    upload  Andhra Pradesh    01/3/18   \n",
       "1              JIO         4G    upload  Andhra Pradesh    01/3/18   \n",
       "2              JIO         4G    upload  Andhra Pradesh    01/3/18   \n",
       "3         VODAFONE         4G  download     Maharashtra    01/3/18   \n",
       "4         VODAFONE         4G  download     Maharashtra    01/3/18   \n",
       "...            ...        ...       ...             ...        ...   \n",
       "12649240    AIRTEL         4G    upload         UP East    01/7/19   \n",
       "12649241      IDEA         3G  download          Kerala    01/7/19   \n",
       "12649242  VODAFONE         4G    upload           Delhi    01/7/19   \n",
       "12649243  VODAFONE         4G    upload           Delhi    01/7/19   \n",
       "12649244       JIO         4G  download           Delhi    01/7/19   \n",
       "\n",
       "         Ranked_SignalStrength Ranked_DataSpeed  \n",
       "0                            6                1  \n",
       "1                            6                1  \n",
       "2                            6                1  \n",
       "3                            4                1  \n",
       "4                            4                1  \n",
       "...                        ...              ...  \n",
       "12649240                     4                1  \n",
       "12649241                     4                1  \n",
       "12649242                     4                1  \n",
       "12649243                     3                1  \n",
       "12649244                     4                1  \n",
       "\n",
       "[12649245 rows x 7 columns]"
      ]
     },
     "execution_count": 13,
     "metadata": {},
     "output_type": "execute_result"
    }
   ],
   "source": [
    "df[['Operator','Technology','Test_Type','LSA','Month&Year','Ranked_SignalStrength','Ranked_DataSpeed']]"
   ]
  },
  {
   "cell_type": "code",
   "execution_count": 14,
   "metadata": {},
   "outputs": [
    {
     "name": "stdout",
     "output_type": "stream",
     "text": [
      "          Operator Technology Test_Type  Data_Speed  Signal_Strength  \\\n",
      "0              JIO         4G    upload    0.053033            -63.0   \n",
      "1              JIO         4G    upload    0.053106            -65.0   \n",
      "2              JIO         4G    upload    0.050200            -65.0   \n",
      "3         VODAFONE         4G  download    0.056157            -90.0   \n",
      "4         VODAFONE         4G  download    0.050272            -90.0   \n",
      "...            ...        ...       ...         ...              ...   \n",
      "12649240    AIRTEL         4G    upload    0.041293            -81.0   \n",
      "12649241      IDEA         3G  download    0.017397            -93.0   \n",
      "12649242  VODAFONE         4G    upload    0.039912            -82.0   \n",
      "12649243  VODAFONE         4G    upload    0.003314            -99.0   \n",
      "12649244       JIO         4G  download    0.027649            -91.0   \n",
      "\n",
      "                     LSA Month&Year Ranked_SignalStrength Ranked_DataSpeed  \n",
      "0         Andhra Pradesh    01/3/18                     6                1  \n",
      "1         Andhra Pradesh    01/3/18                     6                1  \n",
      "2         Andhra Pradesh    01/3/18                     6                1  \n",
      "3            Maharashtra    01/3/18                     4                1  \n",
      "4            Maharashtra    01/3/18                     4                1  \n",
      "...                  ...        ...                   ...              ...  \n",
      "12649240         UP East    01/7/19                     4                1  \n",
      "12649241          Kerala    01/7/19                     4                1  \n",
      "12649242           Delhi    01/7/19                     4                1  \n",
      "12649243           Delhi    01/7/19                     3                1  \n",
      "12649244           Delhi    01/7/19                     4                1  \n",
      "\n",
      "[12649245 rows x 9 columns]\n"
     ]
    }
   ],
   "source": [
    "print (df)"
   ]
  },
  {
   "cell_type": "code",
   "execution_count": 15,
   "metadata": {},
   "outputs": [],
   "source": [
    "header = [\"Operator\",\"Technology\",\"Test_Type\",\"LSA\",\"Month&Year\",\"Ranked_SignalStrength\",\"Ranked_DataSpeed\"]"
   ]
  },
  {
   "cell_type": "code",
   "execution_count": 16,
   "metadata": {},
   "outputs": [],
   "source": [
    "df.to_csv(r'C:\\Users\\Azizur Rehman\\Documents\\DM\\Association_Data.csv', columns = header, index = False)"
   ]
  }
 ],
 "metadata": {
  "kernelspec": {
   "display_name": "Python 3",
   "language": "python",
   "name": "python3"
  },
  "language_info": {
   "codemirror_mode": {
    "name": "ipython",
    "version": 3
   },
   "file_extension": ".py",
   "mimetype": "text/x-python",
   "name": "python",
   "nbconvert_exporter": "python",
   "pygments_lexer": "ipython3",
   "version": "3.7.6"
  }
 },
 "nbformat": 4,
 "nbformat_minor": 2
}
