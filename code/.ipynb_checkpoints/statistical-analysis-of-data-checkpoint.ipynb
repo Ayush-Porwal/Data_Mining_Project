{
 "cells": [
  {
   "cell_type": "markdown",
   "metadata": {},
   "source": [
    "> # Importing required files"
   ]
  },
  {
   "cell_type": "code",
   "execution_count": 1,
   "metadata": {},
   "outputs": [],
   "source": [
    "import numpy as np\n",
    "import pandas as pd"
   ]
  },
  {
   "cell_type": "markdown",
   "metadata": {},
   "source": [
    "> # Function definitions for covariance and correlations"
   ]
  },
  {
   "cell_type": "code",
   "execution_count": 2,
   "metadata": {},
   "outputs": [],
   "source": [
    "def covariance(df,varX,varY):\n",
    "    num = sum((df[varX]-df[varX].mean())*(df[varY]-df[varY].mean()))\n",
    "    return num/(len(df)-1)\n",
    "\n",
    "def pearsonCorr(df,varX,varY):\n",
    "    stdX = df[varX].std()\n",
    "    stdY = df[varY].std()\n",
    "    return covariance(df,varX,varY)/(stdX*stdY)\n",
    "\n",
    "def spearmanCorr(df,varX,varY):\n",
    "        rankX = df[varX].rank()\n",
    "        rankY = df[varY].rank()\n",
    "        num = sum((rankX-rankX.mean())*(rankY-rankY.mean()))/(len(df)-1)\n",
    "        return num/(rankX.std()*rankY.std())"
   ]
  },
  {
   "cell_type": "markdown",
   "metadata": {},
   "source": [
    "> # Number of outliers identification"
   ]
  },
  {
   "cell_type": "code",
   "execution_count": 3,
   "metadata": {},
   "outputs": [
    {
     "name": "stdout",
     "output_type": "stream",
     "text": [
      "Identified outliers: 458560\n",
      "Non-outlier observations: 12190685\n"
     ]
    }
   ],
   "source": [
    "df=pd.read_csv('../data/mergedData.csv')\n",
    "# calculate summary statistics\n",
    "data_mean, data_std = np.mean(df['Data_Speed']), np.std(df['Data_Speed'])\n",
    "# identify outliers\n",
    "cut_off = data_std*3\n",
    "lower, upper = data_mean-cut_off, data_mean+cut_off\n",
    "outliers = [x for x in df['Data_Speed'] if x < lower or x > upper]\n",
    "# remove outliers\n",
    "outliers_removed = [x for x in df['Data_Speed'] if x > lower and x < upper]\n",
    "# seed the random number generator\n",
    "np.random.seed(1)\n",
    "\n",
    "# calculate summary statistics\n",
    "data_mean, data_std = np.mean(df['Data_Speed']), np.std(df['Data_Speed'])\n",
    "# identify outliers\n",
    "cut_off = data_std * 3\n",
    "lower, upper = data_mean - cut_off, data_mean + cut_off\n",
    "outliers = [x for x in df['Data_Speed'] if x < lower or x > upper]\n",
    "print('Identified outliers: %d' % len(outliers))\n",
    "# remove outliers\n",
    "outliers_removed = [x for x in df['Data_Speed'] if x >= lower and x <= upper]\n",
    "print('Non-outlier observations: %d' % len(outliers_removed))"
   ]
  },
  {
   "cell_type": "markdown",
   "metadata": {},
   "source": [
    "> # Finding covariance and correlation"
   ]
  },
  {
   "cell_type": "code",
   "execution_count": 4,
   "metadata": {},
   "outputs": [
    {
     "data": {
      "text/plain": [
       "0.701932784104611"
      ]
     },
     "execution_count": 4,
     "metadata": {},
     "output_type": "execute_result"
    }
   ],
   "source": [
    "covariance(df,'Signal_Strength','Data_Speed')"
   ]
  },
  {
   "cell_type": "code",
   "execution_count": 5,
   "metadata": {},
   "outputs": [
    {
     "data": {
      "text/plain": [
       "0.22772344947987816"
      ]
     },
     "execution_count": 5,
     "metadata": {},
     "output_type": "execute_result"
    }
   ],
   "source": [
    "pearsonCorr(df,'Signal_Strength','Data_Speed')"
   ]
  },
  {
   "cell_type": "code",
   "execution_count": 6,
   "metadata": {},
   "outputs": [
    {
     "data": {
      "text/plain": [
       "0.35040558990649073"
      ]
     },
     "execution_count": 6,
     "metadata": {},
     "output_type": "execute_result"
    }
   ],
   "source": [
    "spearmanCorr(df,'Signal_Strength','Data_Speed')"
   ]
  },
  {
   "cell_type": "code",
   "execution_count": null,
   "metadata": {},
   "outputs": [],
   "source": []
  }
 ],
 "metadata": {
  "kernelspec": {
   "display_name": "Python 3",
   "language": "python",
   "name": "python3"
  },
  "language_info": {
   "codemirror_mode": {
    "name": "ipython",
    "version": 3
   },
   "file_extension": ".py",
   "mimetype": "text/x-python",
   "name": "python",
   "nbconvert_exporter": "python",
   "pygments_lexer": "ipython3",
   "version": "3.7.4"
  }
 },
 "nbformat": 4,
 "nbformat_minor": 2
}
